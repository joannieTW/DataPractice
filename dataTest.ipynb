{
 "cells": [
  {
   "cell_type": "code",
   "execution_count": 2,
   "id": "55e02f9f",
   "metadata": {},
   "outputs": [
    {
     "name": "stdout",
     "output_type": "stream",
     "text": [
      "Hello\n"
     ]
    }
   ],
   "source": [
    "print(\"Hello\")"
   ]
  },
  {
   "cell_type": "code",
   "execution_count": 5,
   "id": "4bbf87c6",
   "metadata": {},
   "outputs": [
    {
     "data": {
      "text/html": [
       "<div>\n",
       "<style scoped>\n",
       "    .dataframe tbody tr th:only-of-type {\n",
       "        vertical-align: middle;\n",
       "    }\n",
       "\n",
       "    .dataframe tbody tr th {\n",
       "        vertical-align: top;\n",
       "    }\n",
       "\n",
       "    .dataframe thead th {\n",
       "        text-align: right;\n",
       "    }\n",
       "</style>\n",
       "<table border=\"1\" class=\"dataframe\">\n",
       "  <thead>\n",
       "    <tr style=\"text-align: right;\">\n",
       "      <th></th>\n",
       "      <th>Seq</th>\n",
       "      <th>DateListed</th>\n",
       "      <th>年度</th>\n",
       "      <th>族語方言別</th>\n",
       "      <th>級別</th>\n",
       "      <th>報名人數</th>\n",
       "      <th>應試人數</th>\n",
       "      <th>通過人數</th>\n",
       "    </tr>\n",
       "  </thead>\n",
       "  <tbody>\n",
       "    <tr>\n",
       "      <th>0</th>\n",
       "      <td>1</td>\n",
       "      <td>20211006</td>\n",
       "      <td>109</td>\n",
       "      <td>南勢阿美語</td>\n",
       "      <td>初級</td>\n",
       "      <td>405</td>\n",
       "      <td>277</td>\n",
       "      <td>103</td>\n",
       "    </tr>\n",
       "    <tr>\n",
       "      <th>1</th>\n",
       "      <td>2</td>\n",
       "      <td>20211006</td>\n",
       "      <td>109</td>\n",
       "      <td>南勢阿美語</td>\n",
       "      <td>中級</td>\n",
       "      <td>396</td>\n",
       "      <td>309</td>\n",
       "      <td>161</td>\n",
       "    </tr>\n",
       "    <tr>\n",
       "      <th>2</th>\n",
       "      <td>3</td>\n",
       "      <td>20211006</td>\n",
       "      <td>109</td>\n",
       "      <td>南勢阿美語</td>\n",
       "      <td>中高級</td>\n",
       "      <td>91</td>\n",
       "      <td>55</td>\n",
       "      <td>6</td>\n",
       "    </tr>\n",
       "    <tr>\n",
       "      <th>3</th>\n",
       "      <td>4</td>\n",
       "      <td>20211006</td>\n",
       "      <td>109</td>\n",
       "      <td>南勢阿美語</td>\n",
       "      <td>高級</td>\n",
       "      <td>30</td>\n",
       "      <td>25</td>\n",
       "      <td>0</td>\n",
       "    </tr>\n",
       "    <tr>\n",
       "      <th>4</th>\n",
       "      <td>5</td>\n",
       "      <td>20211006</td>\n",
       "      <td>109</td>\n",
       "      <td>南勢阿美語</td>\n",
       "      <td>優級</td>\n",
       "      <td>12</td>\n",
       "      <td>10</td>\n",
       "      <td>0</td>\n",
       "    </tr>\n",
       "    <tr>\n",
       "      <th>5</th>\n",
       "      <td>6</td>\n",
       "      <td>20211006</td>\n",
       "      <td>109</td>\n",
       "      <td>秀姑巒阿美語</td>\n",
       "      <td>初級</td>\n",
       "      <td>1145</td>\n",
       "      <td>809</td>\n",
       "      <td>254</td>\n",
       "    </tr>\n",
       "    <tr>\n",
       "      <th>6</th>\n",
       "      <td>7</td>\n",
       "      <td>20211006</td>\n",
       "      <td>109</td>\n",
       "      <td>秀姑巒阿美語</td>\n",
       "      <td>中級</td>\n",
       "      <td>704</td>\n",
       "      <td>536</td>\n",
       "      <td>361</td>\n",
       "    </tr>\n",
       "    <tr>\n",
       "      <th>7</th>\n",
       "      <td>8</td>\n",
       "      <td>20211006</td>\n",
       "      <td>109</td>\n",
       "      <td>秀姑巒阿美語</td>\n",
       "      <td>中高級</td>\n",
       "      <td>310</td>\n",
       "      <td>212</td>\n",
       "      <td>34</td>\n",
       "    </tr>\n",
       "    <tr>\n",
       "      <th>8</th>\n",
       "      <td>9</td>\n",
       "      <td>20211006</td>\n",
       "      <td>109</td>\n",
       "      <td>秀姑巒阿美語</td>\n",
       "      <td>高級</td>\n",
       "      <td>74</td>\n",
       "      <td>50</td>\n",
       "      <td>1</td>\n",
       "    </tr>\n",
       "    <tr>\n",
       "      <th>9</th>\n",
       "      <td>10</td>\n",
       "      <td>20211006</td>\n",
       "      <td>109</td>\n",
       "      <td>秀姑巒阿美語</td>\n",
       "      <td>優級</td>\n",
       "      <td>29</td>\n",
       "      <td>19</td>\n",
       "      <td>0</td>\n",
       "    </tr>\n",
       "  </tbody>\n",
       "</table>\n",
       "</div>"
      ],
      "text/plain": [
       "   Seq  DateListed   年度   族語方言別   級別  報名人數  應試人數  通過人數\n",
       "0    1    20211006  109   南勢阿美語   初級   405   277   103\n",
       "1    2    20211006  109   南勢阿美語   中級   396   309   161\n",
       "2    3    20211006  109   南勢阿美語  中高級    91    55     6\n",
       "3    4    20211006  109   南勢阿美語   高級    30    25     0\n",
       "4    5    20211006  109   南勢阿美語   優級    12    10     0\n",
       "5    6    20211006  109  秀姑巒阿美語   初級  1145   809   254\n",
       "6    7    20211006  109  秀姑巒阿美語   中級   704   536   361\n",
       "7    8    20211006  109  秀姑巒阿美語  中高級   310   212    34\n",
       "8    9    20211006  109  秀姑巒阿美語   高級    74    50     1\n",
       "9   10    20211006  109  秀姑巒阿美語   優級    29    19     0"
      ]
     },
     "execution_count": 5,
     "metadata": {},
     "output_type": "execute_result"
    }
   ],
   "source": [
    "import pandas as pd\n",
    "df = pd.read_csv(\"方言通過.csv\") #讀出來的資料會是一個dataframe\n",
    "df.head(10)\n",
    "df.drop"
   ]
  },
  {
   "cell_type": "code",
   "execution_count": 11,
   "id": "71805a3d",
   "metadata": {},
   "outputs": [
    {
     "data": {
      "text/plain": [
       "Seq            int64\n",
       "DateListed     int64\n",
       "年度             int64\n",
       "族語方言別         object\n",
       "級別            object\n",
       "報名人數           int64\n",
       "應試人數           int64\n",
       "通過人數           int64\n",
       "dtype: object"
      ]
     },
     "execution_count": 11,
     "metadata": {},
     "output_type": "execute_result"
    }
   ],
   "source": [
    "df.dtypes"
   ]
  },
  {
   "cell_type": "code",
   "execution_count": 13,
   "id": "a369da54",
   "metadata": {},
   "outputs": [
    {
     "data": {
      "text/plain": [
       "Seq           210\n",
       "DateListed    210\n",
       "年度            210\n",
       "族語方言別         210\n",
       "級別            210\n",
       "報名人數          210\n",
       "應試人數          210\n",
       "通過人數          210\n",
       "dtype: int64"
      ]
     },
     "execution_count": 13,
     "metadata": {},
     "output_type": "execute_result"
    }
   ],
   "source": [
    "df.count()"
   ]
  },
  {
   "cell_type": "code",
   "execution_count": 15,
   "id": "56128040",
   "metadata": {},
   "outputs": [
    {
     "data": {
      "text/html": [
       "<div>\n",
       "<style scoped>\n",
       "    .dataframe tbody tr th:only-of-type {\n",
       "        vertical-align: middle;\n",
       "    }\n",
       "\n",
       "    .dataframe tbody tr th {\n",
       "        vertical-align: top;\n",
       "    }\n",
       "\n",
       "    .dataframe thead th {\n",
       "        text-align: right;\n",
       "    }\n",
       "</style>\n",
       "<table border=\"1\" class=\"dataframe\">\n",
       "  <thead>\n",
       "    <tr style=\"text-align: right;\">\n",
       "      <th></th>\n",
       "      <th>族語方言別</th>\n",
       "      <th>級別</th>\n",
       "      <th>報名人數</th>\n",
       "      <th>應試人數</th>\n",
       "      <th>通過人數</th>\n",
       "    </tr>\n",
       "  </thead>\n",
       "  <tbody>\n",
       "    <tr>\n",
       "      <th>0</th>\n",
       "      <td>南勢阿美語</td>\n",
       "      <td>初級</td>\n",
       "      <td>405</td>\n",
       "      <td>277</td>\n",
       "      <td>103</td>\n",
       "    </tr>\n",
       "    <tr>\n",
       "      <th>1</th>\n",
       "      <td>南勢阿美語</td>\n",
       "      <td>中級</td>\n",
       "      <td>396</td>\n",
       "      <td>309</td>\n",
       "      <td>161</td>\n",
       "    </tr>\n",
       "    <tr>\n",
       "      <th>2</th>\n",
       "      <td>南勢阿美語</td>\n",
       "      <td>中高級</td>\n",
       "      <td>91</td>\n",
       "      <td>55</td>\n",
       "      <td>6</td>\n",
       "    </tr>\n",
       "    <tr>\n",
       "      <th>3</th>\n",
       "      <td>南勢阿美語</td>\n",
       "      <td>高級</td>\n",
       "      <td>30</td>\n",
       "      <td>25</td>\n",
       "      <td>0</td>\n",
       "    </tr>\n",
       "    <tr>\n",
       "      <th>4</th>\n",
       "      <td>南勢阿美語</td>\n",
       "      <td>優級</td>\n",
       "      <td>12</td>\n",
       "      <td>10</td>\n",
       "      <td>0</td>\n",
       "    </tr>\n",
       "  </tbody>\n",
       "</table>\n",
       "</div>"
      ],
      "text/plain": [
       "   族語方言別   級別  報名人數  應試人數  通過人數\n",
       "0  南勢阿美語   初級   405   277   103\n",
       "1  南勢阿美語   中級   396   309   161\n",
       "2  南勢阿美語  中高級    91    55     6\n",
       "3  南勢阿美語   高級    30    25     0\n",
       "4  南勢阿美語   優級    12    10     0"
      ]
     },
     "execution_count": 15,
     "metadata": {},
     "output_type": "execute_result"
    }
   ],
   "source": [
    "df_lang = df[['族語方言別', '級別', '報名人數', '應試人數', '通過人數']]\n",
    "df_lang.head()"
   ]
  },
  {
   "cell_type": "code",
   "execution_count": 16,
   "id": "84b40868",
   "metadata": {},
   "outputs": [
    {
     "data": {
      "text/plain": [
       "0       初級\n",
       "1       中級\n",
       "2      中高級\n",
       "3       高級\n",
       "4       優級\n",
       "      ... \n",
       "205     初級\n",
       "206     中級\n",
       "207    中高級\n",
       "208     高級\n",
       "209     優級\n",
       "Name: 級別, Length: 210, dtype: object"
      ]
     },
     "execution_count": 16,
     "metadata": {},
     "output_type": "execute_result"
    }
   ],
   "source": [
    "df_lang['級別']"
   ]
  },
  {
   "cell_type": "code",
   "execution_count": 18,
   "id": "5450deb8",
   "metadata": {},
   "outputs": [
    {
     "data": {
      "text/html": [
       "<div>\n",
       "<style scoped>\n",
       "    .dataframe tbody tr th:only-of-type {\n",
       "        vertical-align: middle;\n",
       "    }\n",
       "\n",
       "    .dataframe tbody tr th {\n",
       "        vertical-align: top;\n",
       "    }\n",
       "\n",
       "    .dataframe thead th {\n",
       "        text-align: right;\n",
       "    }\n",
       "</style>\n",
       "<table border=\"1\" class=\"dataframe\">\n",
       "  <thead>\n",
       "    <tr style=\"text-align: right;\">\n",
       "      <th></th>\n",
       "      <th>報名人數</th>\n",
       "      <th>應試人數</th>\n",
       "      <th>通過人數</th>\n",
       "    </tr>\n",
       "  </thead>\n",
       "  <tbody>\n",
       "    <tr>\n",
       "      <th>0</th>\n",
       "      <td>405</td>\n",
       "      <td>277</td>\n",
       "      <td>103</td>\n",
       "    </tr>\n",
       "  </tbody>\n",
       "</table>\n",
       "</div>"
      ],
      "text/plain": [
       "   報名人數  應試人數  通過人數\n",
       "0   405   277   103"
      ]
     },
     "execution_count": 18,
     "metadata": {},
     "output_type": "execute_result"
    }
   ],
   "source": [
    "df_new = df_lang.loc[(df_lang['族語方言別'] == '南勢阿美語') & (df_lang['級別'] == '初級') , ['報名人數', '應試人數', '通過人數']]\n",
    "df_new                                                                           "
   ]
  },
  {
   "cell_type": "code",
   "execution_count": 31,
   "id": "3c2a955a",
   "metadata": {},
   "outputs": [
    {
     "data": {
      "image/png": "[encoded data removed]",
      "text/plain": [
       "<Figure size 432x288 with 1 Axes>"
      ]
     },
     "metadata": {},
     "output_type": "display_data"
    }
   ],
   "source": [
    "import matplotlib.pyplot as plot\n",
    "labels = ['Signup', 'Attendees', 'Pass']\n",
    "exam = df_new.values.tolist()[0]\n",
    "colors = ['lightblue', 'coral', 'red']\n",
    "plot.pie(exam, labels=labels, autopct='%1.2f%%', shadow=True, colors=colors, startangle=60)\n",
    "plot.show()"
   ]
  },
  {
   "cell_type": "code",
   "execution_count": null,
   "id": "e9644c76",
   "metadata": {},
   "outputs": [],
   "source": []
  },
  {
   "cell_type": "code",
   "execution_count": null,
   "id": "06d0f0f3",
   "metadata": {},
   "outputs": [],
   "source": []
  }
 ],
 "metadata": {
  "kernelspec": {
   "display_name": "Python 3",
   "language": "python",
   "name": "python3"
  },
  "language_info": {
   "codemirror_mode": {
    "name": "ipython",
    "version": 3
   },
   "file_extension": ".py",
   "mimetype": "text/x-python",
   "name": "python",
   "nbconvert_exporter": "python",
   "pygments_lexer": "ipython3",
   "version": "3.8.8"
  }
 },
 "nbformat": 4,
 "nbformat_minor": 5
}
